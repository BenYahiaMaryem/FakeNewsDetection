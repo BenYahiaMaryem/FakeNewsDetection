{
 "cells": [
  {
   "cell_type": "code",
   "execution_count": null,
   "metadata": {},
   "outputs": [],
   "source": [
    "import requests\n",
    "import string\n",
    "\n",
    "from collections import Counter\n",
    "\n",
    "from bs4 import BeautifulSoup\n",
    "import csv\n",
    "\n",
    "url = \"https://bbc.com/news\"\n",
    "\n",
    "\n",
    "response = requests.get(url)\n",
    "html = response.text\n",
    "soup = BeautifulSoup(html, \"html.parser\")\n",
    "links = soup.findAll(\"a\")\n",
    "\n",
    "news_urls = []\n",
    "for link in links:\n",
    "    href = link.get(\"href\")\n",
    "    if href.startswith(\"/news\") and href[-1].isdigit():\n",
    "        news_url = \"https://bbc.com\" + href\n",
    "        news_urls.append(news_url)\n",
    "\n",
    "\n",
    "all_nouns = []\n",
    "with open('./test_data/real.csv', mode='w') as csv_file:\n",
    "        fieldnames = ['text', 'label', 'birth_month']\n",
    "        writer = csv.DictWriter(csv_file, fieldnames=fieldnames)\n",
    "        writer.writeheader()\n",
    "\n",
    "for url in news_urls[:10]:\n",
    "    print(\"Fetching {}\".format(url))\n",
    "    response = requests.get(url)\n",
    "    #html = response.text\n",
    "    #soup = BeautifulSoup(html, \"html.parser\")\n",
    "    \n",
    "    \n",
    "    doc = BeautifulSoup(response.text, 'html.parser')\n",
    "    stories = doc.find_all('div', { 'class': 'gs-c-promo' })\n",
    "    for story in stories:\n",
    "        print(story.find('p'))\n",
    "        with open('./test_data/real.csv', mode='w') as csv_file:\n",
    "            writer = csv.DictWriter(csv_file,fieldnames=fieldnames)\n",
    "            writer.writerow({'text': story.txt, 'label': 0})\n",
    "           "
   ]
  },
  {
   "cell_type": "markdown",
   "metadata": {},
   "source": [
    "http://jonathansoma.com/lede/foundations-2017/classes/adv-scraping/scraping-bbc/"
   ]
  },
  {
   "cell_type": "code",
   "execution_count": null,
   "metadata": {
    "scrolled": true
   },
   "outputs": [],
   "source": [
    "import requests\n",
    "import string\n",
    "\n",
    "from bs4 import BeautifulSoup\n",
    "import csv\n",
    "\n",
    "url = \"https://bbc.com/news\"\n",
    "\n",
    "\n",
    "response = requests.get(url)\n",
    "html = response.text\n",
    "soup = BeautifulSoup(html, \"html.parser\")\n",
    "links = soup.findAll(\"a\")\n",
    "\n",
    "news_urls = []\n",
    "for link in links:\n",
    "    href = link.get(\"href\")\n",
    "    if href.startswith(\"/news\") and href[-1].isdigit():\n",
    "        news_url = \"https://bbc.com\" + href\n",
    "        news_urls.append(news_url)\n",
    "\n",
    "\n",
    "all_nouns = []\n",
    "\n",
    "stories_list = []\n",
    "for url in news_urls[:200]:\n",
    "    print(\"Fetching {}\".format(url))\n",
    "    response = requests.get(url)\n",
    "    #html = response.text\n",
    "    #soup = BeautifulSoup(html, \"html.parser\")\n",
    "   \n",
    "\n",
    "    # Start with an empty list\n",
    "    \n",
    "    stories = doc.find_all('div', { 'class': 'gs-c-promo' })\n",
    "    for story in stories:\n",
    "        headline = story.find('h3')\n",
    "        link = story.find('a')\n",
    "        summary = story.find('p')\n",
    "        # Does our story have a summary?\n",
    "        if summary:\n",
    "            # Build a dict that HAS a summary\n",
    "            story_dict = {\n",
    "                \n",
    "                'text': summary.text,\n",
    "                'label':0\n",
    "            }\n",
    "       \n",
    "        # Add the dict to our list\n",
    "        stories_list.append(story_dict)\n",
    "\n",
    "#print(stories_list)\n",
    "\n",
    "# Now that we're done, convert to a CSV and save.\n",
    "# If you don't use index=False, you'll get an ugly dataframe!\n",
    "import pandas as pd\n",
    "df = pd.DataFrame(stories_list)\n",
    "df.to_csv(\"./bbc.csv\", index=False)"
   ]
  },
  {
   "cell_type": "code",
   "execution_count": 1,
   "metadata": {},
   "outputs": [],
   "source": [
    "import csv"
   ]
  },
  {
   "cell_type": "code",
   "execution_count": 2,
   "metadata": {},
   "outputs": [],
   "source": [
    "from newspaper import Article\n",
    "import newspaper\n",
    "\n",
    "cnn_paper = newspaper.build('https://www.nytimes.com')\n",
    "stories_list = []\n",
    "\n",
    "fieldnames = ['text', 'label']\n",
    "for article in cnn_paper.articles:\n",
    "    article.download()\n",
    "    article.parse()\n",
    "    print(article.text)\n",
    "    stories_list.append(article.text)\n",
    "    print(\"#########################################################################################\")\n",
    "    with open('./test_data/real.csv', mode='w') as csv_file:\n",
    "        writer = csv.DictWriter(csv_file,fieldnames=fieldnames)\n",
    "        writer.writerow({'text': article.text, 'label': 0})\n"
   ]
  },
  {
   "cell_type": "code",
   "execution_count": null,
   "metadata": {},
   "outputs": [],
   "source": []
  },
  {
   "cell_type": "code",
   "execution_count": null,
   "metadata": {},
   "outputs": [],
   "source": []
  },
  {
   "cell_type": "code",
   "execution_count": null,
   "metadata": {},
   "outputs": [],
   "source": [
    "len(stories_list)"
   ]
  },
  {
   "cell_type": "code",
   "execution_count": null,
   "metadata": {},
   "outputs": [],
   "source": [
    "df = pd.DataFrame(stories_list)\n",
    "df.to_csv(\"./bbc.csv\", index=False)"
   ]
  },
  {
   "cell_type": "code",
   "execution_count": null,
   "metadata": {},
   "outputs": [],
   "source": [
    "from selenium import webdriver\n",
    "\n",
    "driver = webdriver.Chrome(\"C:\\\\Users\\\\DELL\\\\Documents\\\\ProjetDFN\\\\driver\\\\chromedriver.exe\")\n",
    "driver.implicitly_wait(5) # waiting 5 seconds for dynamic data to load\n",
    "driver.get(\"http://www.bbc.com/news\")       \n",
    "headlines = driver.find_elements_by_tag_name(\"p\")[:5]\n",
    "for headline in headlines:\n",
    "    print(headline.text)   \n",
    "driver.close()"
   ]
  },
  {
   "cell_type": "code",
   "execution_count": null,
   "metadata": {},
   "outputs": [],
   "source": [
    "stories_list"
   ]
  },
  {
   "cell_type": "markdown",
   "metadata": {},
   "source": [
    "## Construct test data"
   ]
  },
  {
   "cell_type": "markdown",
   "metadata": {},
   "source": [
    "Articles source :  https://www.kaggle.com/asad1m9a9h6mood/news-articles#Articles.csv"
   ]
  },
  {
   "cell_type": "code",
   "execution_count": 5,
   "metadata": {},
   "outputs": [],
   "source": [
    "import pandas as pd"
   ]
  },
  {
   "cell_type": "code",
   "execution_count": 53,
   "metadata": {},
   "outputs": [],
   "source": [
    "real = pd.read_csv('./test_data/Articles.csv',encoding = \"ISO-8859-1\")\n",
    "fake = pd.read_csv('./test_data/fake.csv')"
   ]
  },
  {
   "cell_type": "code",
   "execution_count": 54,
   "metadata": {},
   "outputs": [
    {
     "data": {
      "text/plain": [
       "(2692, 4)"
      ]
     },
     "execution_count": 54,
     "metadata": {},
     "output_type": "execute_result"
    }
   ],
   "source": [
    "real.shape"
   ]
  },
  {
   "cell_type": "code",
   "execution_count": 55,
   "metadata": {},
   "outputs": [],
   "source": [
    "real['label']=0\n",
    "fake['label']=1"
   ]
  },
  {
   "cell_type": "code",
   "execution_count": 56,
   "metadata": {},
   "outputs": [],
   "source": [
    "real = real[['Article','label']][:2000]\n",
    "fake = fake[['text','label']][:2000]\n"
   ]
  },
  {
   "cell_type": "code",
   "execution_count": 46,
   "metadata": {},
   "outputs": [
    {
     "data": {
      "text/html": [
       "<div>\n",
       "<style scoped>\n",
       "    .dataframe tbody tr th:only-of-type {\n",
       "        vertical-align: middle;\n",
       "    }\n",
       "\n",
       "    .dataframe tbody tr th {\n",
       "        vertical-align: top;\n",
       "    }\n",
       "\n",
       "    .dataframe thead th {\n",
       "        text-align: right;\n",
       "    }\n",
       "</style>\n",
       "<table border=\"1\" class=\"dataframe\">\n",
       "  <thead>\n",
       "    <tr style=\"text-align: right;\">\n",
       "      <th></th>\n",
       "      <th>text</th>\n",
       "      <th>label</th>\n",
       "    </tr>\n",
       "  </thead>\n",
       "  <tbody>\n",
       "    <tr>\n",
       "      <th>0</th>\n",
       "      <td>Print They should pay all the back all the mon...</td>\n",
       "      <td>1</td>\n",
       "    </tr>\n",
       "    <tr>\n",
       "      <th>1</th>\n",
       "      <td>Why Did Attorney General Loretta Lynch Plead T...</td>\n",
       "      <td>1</td>\n",
       "    </tr>\n",
       "    <tr>\n",
       "      <th>2</th>\n",
       "      <td>Red State : \\nFox News Sunday reported this mo...</td>\n",
       "      <td>1</td>\n",
       "    </tr>\n",
       "    <tr>\n",
       "      <th>3</th>\n",
       "      <td>Email Kayla Mueller was a prisoner and torture...</td>\n",
       "      <td>1</td>\n",
       "    </tr>\n",
       "    <tr>\n",
       "      <th>4</th>\n",
       "      <td>Email HEALTHCARE REFORM TO MAKE AMERICA GREAT ...</td>\n",
       "      <td>1</td>\n",
       "    </tr>\n",
       "  </tbody>\n",
       "</table>\n",
       "</div>"
      ],
      "text/plain": [
       "                                                text  label\n",
       "0  Print They should pay all the back all the mon...      1\n",
       "1  Why Did Attorney General Loretta Lynch Plead T...      1\n",
       "2  Red State : \\nFox News Sunday reported this mo...      1\n",
       "3  Email Kayla Mueller was a prisoner and torture...      1\n",
       "4  Email HEALTHCARE REFORM TO MAKE AMERICA GREAT ...      1"
      ]
     },
     "execution_count": 46,
     "metadata": {},
     "output_type": "execute_result"
    }
   ],
   "source": [
    "fake.head()"
   ]
  },
  {
   "cell_type": "code",
   "execution_count": 47,
   "metadata": {},
   "outputs": [
    {
     "data": {
      "text/html": [
       "<div>\n",
       "<style scoped>\n",
       "    .dataframe tbody tr th:only-of-type {\n",
       "        vertical-align: middle;\n",
       "    }\n",
       "\n",
       "    .dataframe tbody tr th {\n",
       "        vertical-align: top;\n",
       "    }\n",
       "\n",
       "    .dataframe thead th {\n",
       "        text-align: right;\n",
       "    }\n",
       "</style>\n",
       "<table border=\"1\" class=\"dataframe\">\n",
       "  <thead>\n",
       "    <tr style=\"text-align: right;\">\n",
       "      <th></th>\n",
       "      <th>Article</th>\n",
       "      <th>label</th>\n",
       "    </tr>\n",
       "  </thead>\n",
       "  <tbody>\n",
       "    <tr>\n",
       "      <th>0</th>\n",
       "      <td>KARACHI: The Sindh government has decided to b...</td>\n",
       "      <td>0</td>\n",
       "    </tr>\n",
       "    <tr>\n",
       "      <th>1</th>\n",
       "      <td>HONG KONG: Asian markets started 2015 on an up...</td>\n",
       "      <td>0</td>\n",
       "    </tr>\n",
       "    <tr>\n",
       "      <th>2</th>\n",
       "      <td>HONG KONG:  Hong Kong shares opened 0.66 perce...</td>\n",
       "      <td>0</td>\n",
       "    </tr>\n",
       "    <tr>\n",
       "      <th>3</th>\n",
       "      <td>HONG KONG: Asian markets tumbled Tuesday follo...</td>\n",
       "      <td>0</td>\n",
       "    </tr>\n",
       "    <tr>\n",
       "      <th>4</th>\n",
       "      <td>NEW YORK: US oil prices Monday slipped below $...</td>\n",
       "      <td>0</td>\n",
       "    </tr>\n",
       "  </tbody>\n",
       "</table>\n",
       "</div>"
      ],
      "text/plain": [
       "                                             Article  label\n",
       "0  KARACHI: The Sindh government has decided to b...      0\n",
       "1  HONG KONG: Asian markets started 2015 on an up...      0\n",
       "2  HONG KONG:  Hong Kong shares opened 0.66 perce...      0\n",
       "3  HONG KONG: Asian markets tumbled Tuesday follo...      0\n",
       "4  NEW YORK: US oil prices Monday slipped below $...      0"
      ]
     },
     "execution_count": 47,
     "metadata": {},
     "output_type": "execute_result"
    }
   ],
   "source": [
    "real.head()"
   ]
  },
  {
   "cell_type": "code",
   "execution_count": 57,
   "metadata": {},
   "outputs": [],
   "source": [
    "real.rename(columns={'Article': 'text'},inplace=True)"
   ]
  },
  {
   "cell_type": "code",
   "execution_count": 58,
   "metadata": {},
   "outputs": [],
   "source": [
    "fake_real = pd.concat([real,fake],ignore_index=True)"
   ]
  },
  {
   "cell_type": "code",
   "execution_count": 50,
   "metadata": {},
   "outputs": [
    {
     "data": {
      "text/html": [
       "<div>\n",
       "<style scoped>\n",
       "    .dataframe tbody tr th:only-of-type {\n",
       "        vertical-align: middle;\n",
       "    }\n",
       "\n",
       "    .dataframe tbody tr th {\n",
       "        vertical-align: top;\n",
       "    }\n",
       "\n",
       "    .dataframe thead th {\n",
       "        text-align: right;\n",
       "    }\n",
       "</style>\n",
       "<table border=\"1\" class=\"dataframe\">\n",
       "  <thead>\n",
       "    <tr style=\"text-align: right;\">\n",
       "      <th></th>\n",
       "      <th>text</th>\n",
       "      <th>label</th>\n",
       "    </tr>\n",
       "  </thead>\n",
       "  <tbody>\n",
       "    <tr>\n",
       "      <th>0</th>\n",
       "      <td>KARACHI: The Sindh government has decided to b...</td>\n",
       "      <td>0</td>\n",
       "    </tr>\n",
       "    <tr>\n",
       "      <th>1</th>\n",
       "      <td>HONG KONG: Asian markets started 2015 on an up...</td>\n",
       "      <td>0</td>\n",
       "    </tr>\n",
       "    <tr>\n",
       "      <th>2</th>\n",
       "      <td>HONG KONG:  Hong Kong shares opened 0.66 perce...</td>\n",
       "      <td>0</td>\n",
       "    </tr>\n",
       "    <tr>\n",
       "      <th>3</th>\n",
       "      <td>HONG KONG: Asian markets tumbled Tuesday follo...</td>\n",
       "      <td>0</td>\n",
       "    </tr>\n",
       "    <tr>\n",
       "      <th>4</th>\n",
       "      <td>NEW YORK: US oil prices Monday slipped below $...</td>\n",
       "      <td>0</td>\n",
       "    </tr>\n",
       "  </tbody>\n",
       "</table>\n",
       "</div>"
      ],
      "text/plain": [
       "                                                text  label\n",
       "0  KARACHI: The Sindh government has decided to b...      0\n",
       "1  HONG KONG: Asian markets started 2015 on an up...      0\n",
       "2  HONG KONG:  Hong Kong shares opened 0.66 perce...      0\n",
       "3  HONG KONG: Asian markets tumbled Tuesday follo...      0\n",
       "4  NEW YORK: US oil prices Monday slipped below $...      0"
      ]
     },
     "execution_count": 50,
     "metadata": {},
     "output_type": "execute_result"
    }
   ],
   "source": [
    "fake_real.head()"
   ]
  },
  {
   "cell_type": "code",
   "execution_count": 59,
   "metadata": {},
   "outputs": [
    {
     "data": {
      "text/plain": [
       "1    2000\n",
       "0    2000\n",
       "Name: label, dtype: int64"
      ]
     },
     "execution_count": 59,
     "metadata": {},
     "output_type": "execute_result"
    }
   ],
   "source": [
    "fake_real['label'].value_counts()"
   ]
  },
  {
   "cell_type": "code",
   "execution_count": 61,
   "metadata": {},
   "outputs": [],
   "source": [
    "fake_real.to_csv('./test_data/fake_real_test.csv')"
   ]
  }
 ],
 "metadata": {
  "kernelspec": {
   "display_name": "Python 3",
   "language": "python",
   "name": "python3"
  },
  "language_info": {
   "codemirror_mode": {
    "name": "ipython",
    "version": 3
   },
   "file_extension": ".py",
   "mimetype": "text/x-python",
   "name": "python",
   "nbconvert_exporter": "python",
   "pygments_lexer": "ipython3",
   "version": "3.6.4"
  }
 },
 "nbformat": 4,
 "nbformat_minor": 2
}
